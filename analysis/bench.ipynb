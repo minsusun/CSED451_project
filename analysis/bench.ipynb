{
 "cells": [
  {
   "cell_type": "code",
   "execution_count": 2,
   "metadata": {},
   "outputs": [],
   "source": [
    "import numpy as np\n",
    "import cv2"
   ]
  },
  {
   "cell_type": "code",
   "execution_count": 3,
   "metadata": {},
   "outputs": [],
   "source": [
    "intensity_hDim = 32\n",
    "intensity_viewDim = 256\n",
    "intensity_sunDim = 64\n",
    "\n",
    "with open('singleScatterTex.tex', 'rb') as f:\n",
    "    data = np.fromfile(f, dtype = np.float64)\n",
    "\n",
    "data = data.reshape(intensity_hDim, intensity_viewDim, intensity_sunDim, 3)\n",
    "\n",
    "for height in range(intensity_hDim):\n",
    "    cv2.imwrite(f'img/image_{height}.jpg', data[height])\n",
    "\n",
    "vis = tuple(data[height] for height in range(intensity_hDim))\n",
    "\n",
    "cv2.imwrite(f'img/full.jpg', np.concatenate(vis, axis = 1))"
   ]
  }
 ],
 "metadata": {
  "kernelspec": {
   "display_name": "base",
   "language": "python",
   "name": "python3"
  },
  "language_info": {
   "codemirror_mode": {
    "name": "ipython",
    "version": 3
   },
   "file_extension": ".py",
   "mimetype": "text/x-python",
   "name": "python",
   "nbconvert_exporter": "python",
   "pygments_lexer": "ipython3",
   "version": "3.9.13"
  }
 },
 "nbformat": 4,
 "nbformat_minor": 2
}
